{
 "cells": [
  {
   "cell_type": "markdown",
   "id": "cdef3754-61e1-4ef5-a0bf-5b26331b3ce4",
   "metadata": {},
   "source": [
    "# Módulo de Entrada e Saída (ES)"
   ]
  },
  {
   "cell_type": "markdown",
   "id": "da9fd9a7-b751-40e8-9172-c5e1d7154626",
   "metadata": {},
   "source": [
    "## Requisito 1 - Função leitor_pontos -> lista com pontos"
   ]
  },
  {
   "cell_type": "code",
   "execution_count": 6,
   "id": "239a21fe-053b-4a98-adc8-55d1b572e00f",
   "metadata": {
    "tags": []
   },
   "outputs": [
    {
     "name": "stdout",
     "output_type": "stream",
     "text": [
      "<function leitor_pontos at 0x0000021E87335D00>\n"
     ]
    }
   ],
   "source": [
    "import numpy as np\n",
    "def leitor_pontos() -> list:\n",
    "    \"\"\"Retorna uma lista de ndarrays\"\"\"\n",
    "    pass"
   ]
  },
  {
   "cell_type": "markdown",
   "id": "e5ed783d-c960-4bc7-994f-83931d677a5d",
   "metadata": {},
   "source": [
    "## Requisito 2 - Função plota_grafico(lista com pontos)"
   ]
  },
  {
   "cell_type": "code",
   "execution_count": 4,
   "id": "bddc88b2-cfab-4540-9386-feff667db7a3",
   "metadata": {
    "tags": []
   },
   "outputs": [],
   "source": [
    "import numpy as np\n",
    "import matplotlib as mpl\n",
    "import matplotlib.pyplot as plt\n",
    "\n",
    "def plota_grafico(pontos: list) -> None:\n",
    "    \"\"\"Esta função plota um gráfico dada uma lista de pontos\"\"\"\n",
    "    pass"
   ]
  },
  {
   "cell_type": "code",
   "execution_count": null,
   "id": "5163b031-2a26-462b-8298-ff5659ff1c5c",
   "metadata": {},
   "outputs": [],
   "source": []
  }
 ],
 "metadata": {
  "kernelspec": {
   "display_name": "Python 3 (ipykernel)",
   "language": "python",
   "name": "python3"
  },
  "language_info": {
   "codemirror_mode": {
    "name": "ipython",
    "version": 3
   },
   "file_extension": ".py",
   "mimetype": "text/x-python",
   "name": "python",
   "nbconvert_exporter": "python",
   "pygments_lexer": "ipython3",
   "version": "3.11.5"
  }
 },
 "nbformat": 4,
 "nbformat_minor": 5
}
